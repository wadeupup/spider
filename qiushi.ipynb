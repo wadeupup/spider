{
 "cells": [
  {
   "cell_type": "code",
   "execution_count": null,
   "metadata": {
    "collapsed": true
   },
   "outputs": [],
   "source": [
    "import requests\n",
    "from bs4 import BeautifulSoup\n",
    "import bs4\n",
    "\n",
    "\n",
    "def download_page(url):\n",
    "   headers = {\"User-Agent\": \"Mozilla/5.0 (Linux; Android 6.0; Nexus 5 Build/MRA58N) AppleWebKit/537.36 (KHTML, like Gecko) Chrome/72.0.3626.121 Mobile Safari/537.36\"}\n",
    "   r = requests.get(url, headers=headers)  # 增加headers, 模拟浏览器\n",
    "   return r.text\n",
    "\n",
    "\n",
    "def get_content(html, page):\n",
    "   output = \"\"\"第{}页 作者：{} 性别：{} 年龄：{} 内容：{} 评价:{}\\n\\n------------\\n\"\"\" # 最终输出格式\n",
    "   soup = BeautifulSoup(html, 'html.parser')\n",
    "   con = soup.find_all('article') \n",
    "   all_icon = {}\n",
    "   for i in con:\n",
    "        author = i.find('a', class_='username').string\n",
    "        content=i.find('a',class_='text').get_text()\n",
    "        age=i.find('i',class_='age').string\n",
    "        iconbox = i.find('div',class_=\"iconBox\").find_all('i',class_=\"num\")\n",
    "        line_icon = []\n",
    "        line_des = ['笑脸','哭脸','转发','评论']\n",
    "        for j in range(len(iconbox)):\n",
    "            shu=iconbox[j].string\n",
    "            dicts={}\n",
    "            dicts[line_des[j]] = shu\n",
    "            line_icon.append(dicts)\n",
    "            \n",
    "        info=i.find('i',class_=\"icon\")\n",
    "        if   info  is not None:\n",
    "            classlist=info['class']\n",
    "            if 'iconMale' in classlist:\n",
    "                gender='male'\n",
    "            elif 'iconFemale' in classlist:\n",
    "                gender='female'\n",
    "            else:\n",
    "                gender=''\n",
    "        else:\n",
    "            gender=''\n",
    "        all_icon[author]={\n",
    "            'name': author,\n",
    "            'age': age,\n",
    "            'pinglun': line_icon,\n",
    "            'gender':gender,\n",
    "            'content':content\n",
    "        }\n",
    "        save_txt(output.format(page, author, gender, age, content,line_icon))\n",
    "\n",
    "def save_txt(*args):\n",
    "   for i in args:\n",
    "       with open('qiubai.txt', 'a', encoding='utf-8') as f:\n",
    "           f.write(i)  \n",
    "  \n",
    "\n",
    "def main():\n",
    "   # 我们点击下面链接，在页面下方可以看到共有13页，可以构造如下 url\n",
    "   for i in range(1, 14):\n",
    "       url = 'https://www.qiushibaike.com/text/page/{}'.format(i)\n",
    "       html = download_page(url)\n",
    "       get_content(html, i)\n",
    "\n",
    "if __name__ == '__main__':\n",
    "   main()"
   ]
  }
 ],
 "metadata": {
  "kernelspec": {
   "display_name": "Python 2",
   "language": "python",
   "name": "python2"
  },
  "language_info": {
   "codemirror_mode": {
    "name": "ipython",
    "version": 2
   },
   "file_extension": ".py",
   "mimetype": "text/x-python",
   "name": "python",
   "nbconvert_exporter": "python",
   "pygments_lexer": "ipython2",
   "version": "2.7.6"
  }
 },
 "nbformat": 4,
 "nbformat_minor": 0
}
